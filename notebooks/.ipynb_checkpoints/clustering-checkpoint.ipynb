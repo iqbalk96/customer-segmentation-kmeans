{
 "cells": [
  {
   "cell_type": "markdown",
   "id": "470c1b89",
   "metadata": {},
   "source": [
    "# 📊 Customer Segmentation with K-Means Clustering"
   ]
  },
  {
   "cell_type": "code",
   "execution_count": null,
   "id": "5dbc656b",
   "metadata": {},
   "outputs": [],
   "source": [
    "import pandas as pd\n",
    "import matplotlib.pyplot as plt\n",
    "import seaborn as sns\n",
    "from sklearn.cluster import KMeans\n",
    "from sklearn.preprocessing import StandardScaler\n",
    "\n",
    "# Load Data\n",
    "df = pd.read_csv('../data/mall_customers.csv')\n",
    "df.head()\n"
   ]
  },
  {
   "cell_type": "code",
   "execution_count": null,
   "id": "54756bef",
   "metadata": {},
   "outputs": [],
   "source": [
    "# Preprocessing\n",
    "features = df[['Age', 'Annual Income (k$)', 'Spending Score (1-100)']]\n",
    "scaler = StandardScaler()\n",
    "X_scaled = scaler.fit_transform(features)\n"
   ]
  },
  {
   "cell_type": "code",
   "execution_count": null,
   "id": "6aa027ab",
   "metadata": {},
   "outputs": [],
   "source": [
    "# Elbow Method\n",
    "inertia = []\n",
    "K = range(1, 11)\n",
    "for k in K:\n",
    "    model = KMeans(n_clusters=k, random_state=42)\n",
    "    model.fit(X_scaled)\n",
    "    inertia.append(model.inertia_)\n",
    "\n",
    "plt.plot(K, inertia, 'bo-')\n",
    "plt.xlabel('Number of Clusters')\n",
    "plt.ylabel('Inertia')\n",
    "plt.title('Elbow Method for Optimal k')\n",
    "plt.show()\n"
   ]
  },
  {
   "cell_type": "code",
   "execution_count": null,
   "id": "c657e1af",
   "metadata": {},
   "outputs": [],
   "source": [
    "# Final Clustering with K=5\n",
    "kmeans = KMeans(n_clusters=5, random_state=42)\n",
    "df['Cluster'] = kmeans.fit_predict(X_scaled)\n",
    "\n",
    "sns.scatterplot(data=df, x='Annual Income (k$)', y='Spending Score (1-100)', hue='Cluster', palette='Set2')\n",
    "plt.title('Customer Segmentation')\n",
    "plt.show()\n"
   ]
  }
 ],
 "metadata": {},
 "nbformat": 4,
 "nbformat_minor": 5
}
